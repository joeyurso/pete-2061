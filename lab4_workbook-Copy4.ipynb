{
 "cells": [
  {
   "cell_type": "markdown",
   "metadata": {
    "colab_type": "text",
    "id": "u1YDPNtbdHDj"
   },
   "source": [
    "# Control Structures and Data Frames\n",
    "\n",
    "## PETE 2061 Lab 4 Workbook \n",
    "\n",
    "## THIS IS DUE BY 11:59 PM ON SUNDAY (Sept 22, 2019)\n",
    "\n",
    "<a id='top'></a>"
   ]
  },
  {
   "cell_type": "markdown",
   "metadata": {},
   "source": [
    "1. Paste the url (or link) to the pete2061 folder in your github account in the \"marked down\" cell below. <br>"
   ]
  },
  {
   "cell_type": "code",
   "execution_count": 1,
   "metadata": {},
   "outputs": [
    {
     "ename": "SyntaxError",
     "evalue": "invalid syntax (<ipython-input-1-a217fb8a1c61>, line 1)",
     "output_type": "error",
     "traceback": [
      "\u001b[0;36m  File \u001b[0;32m\"<ipython-input-1-a217fb8a1c61>\"\u001b[0;36m, line \u001b[0;32m1\u001b[0m\n\u001b[0;31m    https://github.com/joeyurso\u001b[0m\n\u001b[0m           ^\u001b[0m\n\u001b[0;31mSyntaxError\u001b[0m\u001b[0;31m:\u001b[0m invalid syntax\n"
     ]
    }
   ],
   "source": [
    "https://github.com/joeyurso/pete-2061"
   ]
  },
  {
   "cell_type": "markdown",
   "metadata": {},
   "source": [
    "2. It is commonly said that one human year is equivalent to 7 dog years. However, this simple conversion fails to recognize that dogs reach adulthood in approximately two years. As a result, some people believe that it is better to count each of the first two human years as 10.5 dog years, and then count each additional human year as 4 dog\n",
    "years. <br>\n",
    "Write a program that implements the conversion from human years to dog years described in the previous paragraph. Ensure that your program works correctly for conversions of less than two human years and for conversions of two or more human years. Your program should generate a random number between 0 and 10. <br>\n",
    "Hints: <br>\n",
    "a. Remember that you can generate a random number between 0 and 1 using the function numpy.random.random(1)<br>\n",
    "b. You can scale this random number to go from 0 to 10 by multiplying it by 10<br>\n",
    "c. At this point what you have is a random floating-point number that goes from 0 to 10. You need to convert this floating-point number to an integer using the int() function."
   ]
  },
  {
   "cell_type": "code",
   "execution_count": 2,
   "metadata": {},
   "outputs": [
    {
     "name": "stdout",
     "output_type": "stream",
     "text": [
      "If a human is 1 years old, then a dog is 10.5 years old in dog years.\n"
     ]
    }
   ],
   "source": [
    "import numpy as np\n",
    "human_age = np.random.randint(11)\n",
    "if human_age < 2:\n",
    "    dog_age = human_age*10.5\n",
    "    print(f\"If a human is {human_age} years old, then a dog is {dog_age} years old in dog years.\")\n",
    "elif human_age > 2:\n",
    "    dog_age = 21+(human_age-2)*4\n",
    "    print(f\"If a human is {human_age} years old, then a dog is {dog_age} years old in dog years.\")"
   ]
  },
  {
   "cell_type": "markdown",
   "metadata": {},
   "source": [
    "3. For Students A through J, generate 10 different random numbers between 0 and 100. Create a dataframe to store the student names in the first column (called \"Name\"), and store the scores in the second column called \"Score\".\n",
    "   Print out the mean, standard deviation and maximum of the scores, as well as the index of the student with this maximum score. "
   ]
  },
  {
   "cell_type": "code",
   "execution_count": 3,
   "metadata": {},
   "outputs": [
    {
     "data": {
      "text/html": [
       "<div>\n",
       "<style scoped>\n",
       "    .dataframe tbody tr th:only-of-type {\n",
       "        vertical-align: middle;\n",
       "    }\n",
       "\n",
       "    .dataframe tbody tr th {\n",
       "        vertical-align: top;\n",
       "    }\n",
       "\n",
       "    .dataframe thead th {\n",
       "        text-align: right;\n",
       "    }\n",
       "</style>\n",
       "<table border=\"1\" class=\"dataframe\">\n",
       "  <thead>\n",
       "    <tr style=\"text-align: right;\">\n",
       "      <th></th>\n",
       "      <th>Name</th>\n",
       "      <th>Score</th>\n",
       "    </tr>\n",
       "  </thead>\n",
       "  <tbody>\n",
       "    <tr>\n",
       "      <th>0</th>\n",
       "      <td>A</td>\n",
       "      <td>40.304433</td>\n",
       "    </tr>\n",
       "    <tr>\n",
       "      <th>1</th>\n",
       "      <td>B</td>\n",
       "      <td>75.248589</td>\n",
       "    </tr>\n",
       "    <tr>\n",
       "      <th>2</th>\n",
       "      <td>C</td>\n",
       "      <td>14.773884</td>\n",
       "    </tr>\n",
       "    <tr>\n",
       "      <th>3</th>\n",
       "      <td>D</td>\n",
       "      <td>73.157517</td>\n",
       "    </tr>\n",
       "    <tr>\n",
       "      <th>4</th>\n",
       "      <td>E</td>\n",
       "      <td>92.864535</td>\n",
       "    </tr>\n",
       "    <tr>\n",
       "      <th>5</th>\n",
       "      <td>F</td>\n",
       "      <td>5.662883</td>\n",
       "    </tr>\n",
       "    <tr>\n",
       "      <th>6</th>\n",
       "      <td>G</td>\n",
       "      <td>12.415638</td>\n",
       "    </tr>\n",
       "    <tr>\n",
       "      <th>7</th>\n",
       "      <td>H</td>\n",
       "      <td>85.791567</td>\n",
       "    </tr>\n",
       "    <tr>\n",
       "      <th>8</th>\n",
       "      <td>I</td>\n",
       "      <td>3.473089</td>\n",
       "    </tr>\n",
       "    <tr>\n",
       "      <th>9</th>\n",
       "      <td>J</td>\n",
       "      <td>48.859259</td>\n",
       "    </tr>\n",
       "  </tbody>\n",
       "</table>\n",
       "</div>"
      ],
      "text/plain": [
       "  Name      Score\n",
       "0    A  40.304433\n",
       "1    B  75.248589\n",
       "2    C  14.773884\n",
       "3    D  73.157517\n",
       "4    E  92.864535\n",
       "5    F   5.662883\n",
       "6    G  12.415638\n",
       "7    H  85.791567\n",
       "8    I   3.473089\n",
       "9    J  48.859259"
      ]
     },
     "execution_count": 3,
     "metadata": {},
     "output_type": "execute_result"
    }
   ],
   "source": [
    "names = \"A B C D E F G H I J\".split()\n",
    "scores = 100*np.random.random(10)\n",
    "import pandas as pd\n",
    "df=pd.DataFrame({'Name':names,'Score':scores})\n",
    "df"
   ]
  },
  {
   "cell_type": "code",
   "execution_count": 4,
   "metadata": {},
   "outputs": [
    {
     "data": {
      "text/html": [
       "<div>\n",
       "<style scoped>\n",
       "    .dataframe tbody tr th:only-of-type {\n",
       "        vertical-align: middle;\n",
       "    }\n",
       "\n",
       "    .dataframe tbody tr th {\n",
       "        vertical-align: top;\n",
       "    }\n",
       "\n",
       "    .dataframe thead th {\n",
       "        text-align: right;\n",
       "    }\n",
       "</style>\n",
       "<table border=\"1\" class=\"dataframe\">\n",
       "  <thead>\n",
       "    <tr style=\"text-align: right;\">\n",
       "      <th></th>\n",
       "      <th>Score</th>\n",
       "    </tr>\n",
       "  </thead>\n",
       "  <tbody>\n",
       "    <tr>\n",
       "      <th>count</th>\n",
       "      <td>10.000000</td>\n",
       "    </tr>\n",
       "    <tr>\n",
       "      <th>mean</th>\n",
       "      <td>45.255139</td>\n",
       "    </tr>\n",
       "    <tr>\n",
       "      <th>std</th>\n",
       "      <td>34.874906</td>\n",
       "    </tr>\n",
       "    <tr>\n",
       "      <th>min</th>\n",
       "      <td>3.473089</td>\n",
       "    </tr>\n",
       "    <tr>\n",
       "      <th>25%</th>\n",
       "      <td>13.005200</td>\n",
       "    </tr>\n",
       "    <tr>\n",
       "      <th>50%</th>\n",
       "      <td>44.581846</td>\n",
       "    </tr>\n",
       "    <tr>\n",
       "      <th>75%</th>\n",
       "      <td>74.725821</td>\n",
       "    </tr>\n",
       "    <tr>\n",
       "      <th>max</th>\n",
       "      <td>92.864535</td>\n",
       "    </tr>\n",
       "  </tbody>\n",
       "</table>\n",
       "</div>"
      ],
      "text/plain": [
       "           Score\n",
       "count  10.000000\n",
       "mean   45.255139\n",
       "std    34.874906\n",
       "min     3.473089\n",
       "25%    13.005200\n",
       "50%    44.581846\n",
       "75%    74.725821\n",
       "max    92.864535"
      ]
     },
     "execution_count": 4,
     "metadata": {},
     "output_type": "execute_result"
    }
   ],
   "source": [
    "df.describe()"
   ]
  },
  {
   "cell_type": "code",
   "execution_count": 14,
   "metadata": {},
   "outputs": [
    {
     "name": "stdout",
     "output_type": "stream",
     "text": [
      "The mean is 45.255139487499854, the standard deviation is 33.08524108653983, and the maximum score is 92.86453523589552\n"
     ]
    },
    {
     "data": {
      "text/plain": [
       "Name           E\n",
       "Score    92.8645\n",
       "Name: 4, dtype: object"
      ]
     },
     "execution_count": 14,
     "metadata": {},
     "output_type": "execute_result"
    }
   ],
   "source": [
    "print(f\"The mean is {scores.mean()}, the standard deviation is {scores.std()}, and the maximum score is {scores.max()}\")\n",
    "df.loc[df[\"Score\"].idxmax]"
   ]
  },
  {
   "cell_type": "markdown",
   "metadata": {},
   "source": [
    "4. Write a program that begins by reading a score in percentage (%) from the user. Then your program should compute and display the equivalent letter grade. Ensure that your program generates an appropriate error message if the user enters an invalid score.\n",
    "Use the grading scale on your syllabus. These scores are typed in below."
   ]
  },
  {
   "cell_type": "code",
   "execution_count": null,
   "metadata": {},
   "outputs": [],
   "source": [
    "letterGrade = ['A+','A','A-','B+','B','B-','C+','C','C-','D+','D','D-']\n",
    "scores = [97,93,90,87,83,80,77,73,70,67,63,60]\n",
    "# A score of less than 60 gets a letter grade of F\n",
    "grade = int(input(\"Enter your score %\"))\n",
    "if grade >= 97:\n",
    "    print(\"You got an A+, congratulations!\")\n",
    "elif grade >= 93:\n",
    "    print(\"You got an A, congratulations!\")\n",
    "elif grade >= 90:\n",
    "    print(\"You got an A-, congratulations!\")\n",
    "elif grade >= 87:\n",
    "    print(\"You got a B+, great job!\")\n",
    "elif grade >= 83:\n",
    "    print(\"You got a B, great job!\")\n",
    "elif grade >= 80:\n",
    "    print(\"You got a B-, great job!\")\n",
    "elif grade >= 77:\n",
    "    print(\"You got a C+, good job \")\n",
    "elif grade >= 73:\n",
    "    print(\"You got a C, good job\")\n",
    "elif grade >= 70:\n",
    "    print(\"You got a C-, you passed!\")\n",
    "elif grade >= 67:\n",
    "    print(\"You got a D+\")\n",
    "elif grade >= 63:\n",
    "    print(\"You got a D\")\n",
    "elif grade >= 60:\n",
    "    print(\"You got a D-\")\n",
    "elif grade >= 0:\n",
    "    print(\"Unfortunately, you got an F\")\n",
    "elif grade < 0:\n",
    "    print(\"This is an invalid score\")"
   ]
  },
  {
   "cell_type": "markdown",
   "metadata": {},
   "source": [
    "5. Write a program that generates 10 random integers, and then prints the largest odd number that was entered. If no odd number was entered it should print a message to that effect. <br>\n",
    "Hints: <br>\n",
    "    a. Use pseudo-code. <br>\n",
    "    b. Generate a random number using the code below:<br>\n",
    "    myRandInt = np.random.randint(low=1, high=20, size=10)<br>\n",
    "    c. Initialize an empty list to contain the odd numbers. Name this list oddInt <br>\n",
    "    d. Within your for loop, you can append odd numbers to this empty list using the append function. eg: <br>\n",
    "    oddInt.append(\"The current odd number from the list should be put in here!\")"
   ]
  },
  {
   "cell_type": "code",
   "execution_count": null,
   "metadata": {},
   "outputs": [],
   "source": [
    "import numpy as np\n",
    "myRandInt = np.random.randint(low=1, high=20, size=10)\n",
    "oddInt = (x for x in myRandInt if x % 2!=0)\n",
    "print(myRandInt)\n",
    "if oddInt:\n",
    "        print(max(oddInt))\n",
    "else:\n",
    "        print(f\"There were no odd integers\")"
   ]
  },
  {
   "cell_type": "code",
   "execution_count": null,
   "metadata": {},
   "outputs": [],
   "source": []
  }
 ],
 "metadata": {
  "colab": {
   "collapsed_sections": [
    "sYQs3O-6dHFb",
    "8sIJ4A57dHFk",
    "_73RPOcBdHFn",
    "h9s2tfPcdHFo",
    "zt4YHVYPdHGR"
   ],
   "include_colab_link": true,
   "name": "Copy of intro-python-colab.ipynb",
   "provenance": [],
   "version": "0.3.2"
  },
  "kernelspec": {
   "display_name": "Python 3",
   "language": "python",
   "name": "python3"
  },
  "language_info": {
   "codemirror_mode": {
    "name": "ipython",
    "version": 3
   },
   "file_extension": ".py",
   "mimetype": "text/x-python",
   "name": "python",
   "nbconvert_exporter": "python",
   "pygments_lexer": "ipython3",
   "version": "3.7.3"
  }
 },
 "nbformat": 4,
 "nbformat_minor": 1
}
