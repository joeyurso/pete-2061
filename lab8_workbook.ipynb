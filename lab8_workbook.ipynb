{
 "cells": [
  {
   "cell_type": "markdown",
   "metadata": {
    "colab_type": "text",
    "id": "u1YDPNtbdHDj"
   },
   "source": [
    "\n",
    "#  Inferential Statistics\n",
    "\n",
    "## PETE 2061 Lab 8 Workbook \n",
    "\n",
    "## THIS IS DUE BY 11:59 PM TODAY (Oct 14, 2019)"
   ]
  },
  {
   "cell_type": "markdown",
   "metadata": {},
   "source": [
    "1. **Using the example in \"lab8_inferential_stats.ipynb\", write a Python code to compute the confidence interval for the winning percentage of Ed Orgeron based on \"poll-larger.csv\", and show that he is the likely winner within a 95% confidence interval**\n",
    "2. Type out:\n",
    "    * (a) the 95% confidence interval\n",
    "    * (b) the point estimate\n",
    "    * (c) the margin of error."
   ]
  },
  {
   "cell_type": "code",
   "execution_count": 1,
   "metadata": {},
   "outputs": [],
   "source": [
    "import numpy as np\n",
    "import scipy.stats as ss\n",
    "import pandas as pd\n",
    "import matplotlib.pyplot as plt"
   ]
  },
  {
   "cell_type": "code",
   "execution_count": 10,
   "metadata": {
    "scrolled": true
   },
   "outputs": [
    {
     "data": {
      "text/plain": [
       "(0.4903, 0.5101025)"
      ]
     },
     "execution_count": 10,
     "metadata": {},
     "output_type": "execute_result"
    },
    {
     "data": {
      "image/png": "[encoded data removed]",
      "text/plain": [
       "<Figure size 432x288 with 1 Axes>"
      ]
     },
     "metadata": {
      "needs_background": "light"
     },
     "output_type": "display_data"
    }
   ],
   "source": [
    "poll = pd.read_csv('poll-larger.csv')\n",
    "poll['vote'].value_counts(normalize=True)\n",
    "def sample(orgeron,n=1000):\n",
    "    return pd.DataFrame({'vote':np.where(np.random.rand(n)<orgeron,\"Saban\",\"Orgeron\")})\n",
    "\n",
    "votes = pd.DataFrame([sample(0.5181)['vote'].value_counts(normalize=True) for i in range(1000)])\n",
    "votes['Orgeron'].plot(kind='hist',histtype='step',bins = 20)\n",
    "\n",
    "plt.axvline(votes['Orgeron'].quantile(0.025), c=\"C1\",linestyle='--')\n",
    "plt.axvline(votes['Orgeron'].quantile(0.5), c=\"C1\",linestyle='--')\n",
    "plt.axvline(votes['Orgeron'].quantile(0.975), c=\"C1\",linestyle='--')\n",
    "\n",
    "def samplingdist(orgeron,n=1000):\n",
    "    return pd.DataFrame([sample(orgeron,n)['vote'].value_counts(normalize=True) for i in range (1000)])\n",
    "\n",
    "def quantiles(orgeron,n=1000):\n",
    "    votes = samplingdist(orgeron,n)\n",
    "    return votes['Orgeron'].quantile(0.025), votes[\"Orgeron\"].quantile(0.975)\n",
    "\n",
    "quantiles(0.5,10000)"
   ]
  },
  {
   "cell_type": "code",
   "execution_count": 20,
   "metadata": {},
   "outputs": [
    {
     "name": "stdout",
     "output_type": "stream",
     "text": [
      "The confidence interval lies between 0.4903 - 0.5101025\n",
      "The point estimate is 0.481\n",
      "The margin of error is 0.03\n"
     ]
    }
   ],
   "source": [
    "print(f\"The confidence interval lies between 0.4903 - 0.5101025\")\n",
    "print(f\"The point estimate is {votes['Orgeron'].quantile(0.5)}\")\n",
    "print(f\"The margin of error is 0.03\")"
   ]
  },
  {
   "cell_type": "code",
   "execution_count": null,
   "metadata": {},
   "outputs": [],
   "source": []
  }
 ],
 "metadata": {
  "colab": {
   "collapsed_sections": [
    "sYQs3O-6dHFb",
    "8sIJ4A57dHFk",
    "_73RPOcBdHFn",
    "h9s2tfPcdHFo",
    "zt4YHVYPdHGR"
   ],
   "include_colab_link": true,
   "name": "Copy of intro-python-colab.ipynb",
   "provenance": [],
   "version": "0.3.2"
  },
  "kernelspec": {
   "display_name": "Python 3",
   "language": "python",
   "name": "python3"
  },
  "language_info": {
   "codemirror_mode": {
    "name": "ipython",
    "version": 3
   },
   "file_extension": ".py",
   "mimetype": "text/x-python",
   "name": "python",
   "nbconvert_exporter": "python",
   "pygments_lexer": "ipython3",
   "version": "3.7.3"
  }
 },
 "nbformat": 4,
 "nbformat_minor": 1
}
